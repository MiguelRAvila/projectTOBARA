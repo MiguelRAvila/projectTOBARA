{
 "cells": [
  {
   "cell_type": "markdown",
   "metadata": {},
   "source": [
    "# Espacio de pruebas.\n",
    "Para una mejor apreciación de las funciones individualmente, se creo este pequeño espacio en el que podemos ver como están funcionando cada modulo demanera individual, tomando en consideración 4 casos:\n",
    "\n",
    "### Test 1. \n",
    "$ var = 2 $\n",
    "\n",
    "$ f( x, y ) = [ 0, 1, 3 ] $\n",
    "\n",
    "### Test 2. \n",
    "$ var = 4 $\n",
    "\n",
    "$ f( w, x, y, z ) = [ 0, 1 ] $\n",
    "\n",
    "### Test 3. \n",
    "$ var = 4 $\n",
    "\n",
    "$ f( w, x, y, z ) = [ 0, 1, 4, 5 ] $\n",
    "\n",
    "### Test 4. \n",
    "$ var = 4 $\n",
    "\n",
    "$ f( w, x, y, z ) = [ 0, 1, 4, 5, 8, 9, 12, 13 ] $\n",
    "\n",
    "También, tenemos que considerar las funciones que no son complemento de otras funciones, pero propiamente no tienen ninguna prueba especifica."
   ]
  },
  {
   "cell_type": "markdown",
   "metadata": {},
   "source": [
    "## Funciones internas"
   ]
  },
  {
   "cell_type": "code",
   "execution_count": 1,
   "metadata": {},
   "outputs": [],
   "source": [
    "# Convierte un valor entero a binario y agrega una casilla para guardar el valor de verdad\n",
    "def getBin ( val, var ):\n",
    "\n",
    "    binario = [  ]\n",
    "\n",
    "    for cell in bin( val )[ 2: ]:\n",
    "        \n",
    "        binario.append( int( cell ) )\n",
    "\n",
    "    tam = len( binario )\n",
    "\n",
    "    for i in range( var - tam ):\n",
    "    \n",
    "        binario.append( 0 )\n",
    "        \n",
    "    binario.reverse(  )\n",
    "\n",
    "    binario.append( 0 )\n",
    "\n",
    "    return binario"
   ]
  },
  {
   "cell_type": "code",
   "execution_count": 2,
   "metadata": {},
   "outputs": [],
   "source": [
    "# Cambia de binario a letra\n",
    "def binaryToLetter( s ):\n",
    "\n",
    "    result = ''\n",
    "    \n",
    "    c = 'a'\n",
    "    \n",
    "    n = 0\n",
    "    \n",
    "    for i in range(len(s)):\n",
    "       \n",
    "        if s[i] == '1':\n",
    "\n",
    "            result = result + c\n",
    "\n",
    "        elif s[i] == '0':\n",
    "\n",
    "            result = result + c+'\\''\n",
    "\n",
    "        n += 1\n",
    "\n",
    "        c = chr( ord( c ) + 1 )\n",
    "    \n",
    "    return result"
   ]
  },
  {
   "cell_type": "code",
   "execution_count": 3,
   "metadata": {},
   "outputs": [],
   "source": [
    "# Compara dos strings booleanos buscando si tienen un valor en común\n",
    "# Para este caso particular solo nos interesa si tienen una sola similitud, en los casos contrarios\n",
    "# Se considera que no se puede reducir.\n",
    "# Devuelve la posición del valor diferente.\n",
    "def compBinary( s1, s2 ):\n",
    "\n",
    "    cont = 0\n",
    "    \n",
    "    position = 0\n",
    "\n",
    "    for pos in range( len( s1 ) ):\n",
    "\n",
    "        if( s1[ pos ] != s2[ pos ] ):\n",
    "\n",
    "            cont += 1\n",
    "\n",
    "            position = pos\n",
    "\n",
    "    if( cont == 1 ):\n",
    "\n",
    "        return True, position\n",
    "\n",
    "    else:\n",
    "\n",
    "        return False, None"
   ]
  },
  {
   "cell_type": "code",
   "execution_count": 4,
   "metadata": {},
   "outputs": [],
   "source": [
    "#Compara si el numero es igual a un implicante \n",
    "#Devuelve un valor de verdad\n",
    "def compBinarySame( term, number ):\n",
    "    \n",
    "    for i in range( len( term ) ):\n",
    "    \n",
    "        if term[ i ] != '-':\n",
    "    \n",
    "            if term[ i ] != number[ i ]:\n",
    "    \n",
    "                return False\n",
    "\n",
    "    return True"
   ]
  },
  {
   "cell_type": "markdown",
   "metadata": {},
   "source": [
    "## getTable( var, función )"
   ]
  },
  {
   "cell_type": "code",
   "execution_count": 5,
   "metadata": {},
   "outputs": [],
   "source": [
    "def getTable ( var, fun ):\n",
    "\n",
    "    table = [  ]\n",
    "\n",
    "    tam = y = 2 ** var \n",
    "\n",
    "    for index in range( y ):\n",
    "\n",
    "        table.append( getBin( index, var ) )\n",
    "    \n",
    "    for minTer in fun:\n",
    "\n",
    "        table[ minTer ][ var ] = 1\n",
    "\n",
    "    return table"
   ]
  },
  {
   "cell_type": "markdown",
   "metadata": {},
   "source": [
    "### Test 1. \n",
    "$ var = 2 $\n",
    "\n",
    "$ f( x, y ) = [ 0, 1, 3 ] $\n",
    "\n",
    "Llamada de la función: getTable( 2, [ 0, 1, 3 ] )\n",
    "\n"
   ]
  },
  {
   "cell_type": "code",
   "execution_count": 6,
   "metadata": {},
   "outputs": [
    {
     "name": "stdout",
     "output_type": "stream",
     "text": [
      "[0, 0, 1]\n",
      "[0, 1, 1]\n",
      "[0, 1, 0]\n",
      "[1, 1, 1]\n"
     ]
    }
   ],
   "source": [
    "table = getTable( 2, [ 0, 1, 3 ] )\n",
    "\n",
    "for line in table:\n",
    "    print( line )"
   ]
  },
  {
   "cell_type": "markdown",
   "metadata": {},
   "source": [
    "### Test 2. \n",
    "$ var = 4 $\n",
    "\n",
    "$ f( w, x, y, z ) = [ 0, 1 ] $\n",
    "\n",
    "Llamada de la función: getTable( 4, [ 0, 1 ] )"
   ]
  },
  {
   "cell_type": "code",
   "execution_count": 7,
   "metadata": {},
   "outputs": [
    {
     "name": "stdout",
     "output_type": "stream",
     "text": [
      "[0, 0, 0, 0, 1]\n",
      "[0, 0, 0, 1, 1]\n",
      "[0, 0, 0, 1, 0]\n",
      "[0, 0, 1, 1, 0]\n",
      "[0, 0, 0, 1, 0]\n",
      "[0, 1, 0, 1, 0]\n",
      "[0, 0, 1, 1, 0]\n",
      "[0, 1, 1, 1, 0]\n",
      "[0, 0, 0, 1, 0]\n",
      "[1, 0, 0, 1, 0]\n",
      "[0, 1, 0, 1, 0]\n",
      "[1, 1, 0, 1, 0]\n",
      "[0, 0, 1, 1, 0]\n",
      "[1, 0, 1, 1, 0]\n",
      "[0, 1, 1, 1, 0]\n",
      "[1, 1, 1, 1, 0]\n"
     ]
    }
   ],
   "source": [
    "table = getTable( 4, [ 0, 1 ] )\n",
    "\n",
    "for line in table:\n",
    "    print( line )"
   ]
  },
  {
   "cell_type": "markdown",
   "metadata": {},
   "source": [
    "### Test 3. \n",
    "$ var = 4 $\n",
    "\n",
    "$ f( w, x, y, z ) = [ 0, 1, 4, 5 ] $\n",
    "\n",
    "Llamada de la función: getTable( 4, [ 0, 1, 4, 5 ] )"
   ]
  },
  {
   "cell_type": "code",
   "execution_count": 8,
   "metadata": {},
   "outputs": [
    {
     "name": "stdout",
     "output_type": "stream",
     "text": [
      "[0, 0, 0, 0, 1]\n",
      "[0, 0, 0, 1, 1]\n",
      "[0, 0, 0, 1, 0]\n",
      "[0, 0, 1, 1, 0]\n",
      "[0, 0, 0, 1, 1]\n",
      "[0, 1, 0, 1, 1]\n",
      "[0, 0, 1, 1, 0]\n",
      "[0, 1, 1, 1, 0]\n",
      "[0, 0, 0, 1, 0]\n",
      "[1, 0, 0, 1, 0]\n",
      "[0, 1, 0, 1, 0]\n",
      "[1, 1, 0, 1, 0]\n",
      "[0, 0, 1, 1, 0]\n",
      "[1, 0, 1, 1, 0]\n",
      "[0, 1, 1, 1, 0]\n",
      "[1, 1, 1, 1, 0]\n"
     ]
    }
   ],
   "source": [
    "table = getTable( 4, [ 0, 1, 4, 5 ] )\n",
    "\n",
    "for line in table:\n",
    "    \n",
    "    print( line )"
   ]
  },
  {
   "cell_type": "markdown",
   "metadata": {},
   "source": [
    "### Test 4. \n",
    "$ var = 4 $\n",
    "\n",
    "$ f( w, x, y, z ) = [ 0, 1, 4, 5, 8, 9, 12, 13 ] $\n",
    "\n",
    "Llamada de la función: getTable( 4, [ 0, 1, 4, 5, 8, 9, 12, 13 ] )"
   ]
  },
  {
   "cell_type": "code",
   "execution_count": 9,
   "metadata": {},
   "outputs": [
    {
     "name": "stdout",
     "output_type": "stream",
     "text": [
      "[0, 0, 0, 0, 1]\n",
      "[0, 0, 0, 1, 1]\n",
      "[0, 0, 0, 1, 0]\n",
      "[0, 0, 1, 1, 0]\n",
      "[0, 0, 0, 1, 1]\n",
      "[0, 1, 0, 1, 1]\n",
      "[0, 0, 1, 1, 0]\n",
      "[0, 1, 1, 1, 0]\n",
      "[0, 0, 0, 1, 1]\n",
      "[1, 0, 0, 1, 1]\n",
      "[0, 1, 0, 1, 0]\n",
      "[1, 1, 0, 1, 0]\n",
      "[0, 0, 1, 1, 1]\n",
      "[1, 0, 1, 1, 1]\n",
      "[0, 1, 1, 1, 0]\n",
      "[1, 1, 1, 1, 0]\n"
     ]
    }
   ],
   "source": [
    "table = getTable( 4, [ 0, 1, 4, 5, 8, 9, 12, 13 ] )\n",
    "\n",
    "for line in table:\n",
    "\n",
    "    print( line )"
   ]
  },
  {
   "cell_type": "markdown",
   "metadata": {},
   "source": [
    "## getMinTable( var, función )"
   ]
  },
  {
   "cell_type": "code",
   "execution_count": 10,
   "metadata": {},
   "outputs": [],
   "source": [
    "def getMinTable ( var, fun ):\n",
    "\n",
    "    table = [  ]\n",
    "\n",
    "    pos = 0\n",
    "\n",
    "    for i in fun:\n",
    "\n",
    "        table.append( getBin( i, var ) )\n",
    "\n",
    "        table[ pos ][ var ] = 1\n",
    "\n",
    "        pos += 1\n",
    "\n",
    "    return table"
   ]
  },
  {
   "cell_type": "markdown",
   "metadata": {},
   "source": [
    "### Test 1. \n",
    "$ var = 2 $\n",
    "\n",
    "$ f( x, y ) = [ 0, 1, 3 ] $\n",
    "\n",
    "Llamada de la función: getMinTable( 2, [ 0, 1, 3 ] )"
   ]
  },
  {
   "cell_type": "code",
   "execution_count": 11,
   "metadata": {},
   "outputs": [
    {
     "name": "stdout",
     "output_type": "stream",
     "text": [
      "[0, 0, 1]\n",
      "[0, 1, 1]\n",
      "[1, 1, 1]\n"
     ]
    }
   ],
   "source": [
    "table = getMinTable( 2, [ 0, 1, 3 ] )\n",
    "\n",
    "for line in table:\n",
    "    print( line )"
   ]
  },
  {
   "cell_type": "markdown",
   "metadata": {},
   "source": [
    "### Test 2. \n",
    "$ var = 4 $\n",
    "\n",
    "$ f( w, x, y, z ) = [ 0, 1 ] $\n",
    "\n",
    "Llamada de la función: getMinTable( 4, [ 0, 1 ] )"
   ]
  },
  {
   "cell_type": "code",
   "execution_count": 12,
   "metadata": {},
   "outputs": [
    {
     "name": "stdout",
     "output_type": "stream",
     "text": [
      "[0, 0, 0, 0, 1]\n",
      "[0, 0, 0, 1, 1]\n"
     ]
    }
   ],
   "source": [
    "table = getMinTable( 4, [ 0, 1 ] )\n",
    "\n",
    "for line in table:\n",
    "    print( line )"
   ]
  },
  {
   "cell_type": "markdown",
   "metadata": {},
   "source": [
    "### Test 3. \n",
    "$ var = 4 $\n",
    "\n",
    "$ f( w, x, y, z ) = [ 0, 1, 4, 5 ] $\n",
    "\n",
    "Llamada de la función: getMinTable( 4, [ 0, 1, 4, 5 ] )"
   ]
  },
  {
   "cell_type": "code",
   "execution_count": 13,
   "metadata": {},
   "outputs": [
    {
     "name": "stdout",
     "output_type": "stream",
     "text": [
      "[0, 0, 0, 0, 1]\n",
      "[0, 0, 0, 1, 1]\n",
      "[0, 0, 0, 1, 1]\n",
      "[0, 1, 0, 1, 1]\n"
     ]
    }
   ],
   "source": [
    "table = getMinTable( 4, [ 0, 1, 4, 5 ] )\n",
    "\n",
    "for line in table:\n",
    "    \n",
    "    print( line )"
   ]
  },
  {
   "cell_type": "markdown",
   "metadata": {},
   "source": [
    "### Test 4. \n",
    "$ var = 4 $\n",
    "\n",
    "$ f( w, x, y, z ) = [ 0, 1, 4, 5, 8, 9, 12, 13 ] $\n",
    "\n",
    "Llamada de la función: getMinTable( 4, [ 0, 1, 4, 5, 8, 9, 12, 13 ] )"
   ]
  },
  {
   "cell_type": "code",
   "execution_count": 14,
   "metadata": {},
   "outputs": [
    {
     "name": "stdout",
     "output_type": "stream",
     "text": [
      "[0, 0, 0, 0, 1]\n",
      "[0, 0, 0, 1, 1]\n",
      "[0, 0, 0, 1, 1]\n",
      "[0, 1, 0, 1, 1]\n",
      "[0, 0, 0, 1, 1]\n",
      "[1, 0, 0, 1, 1]\n",
      "[0, 0, 1, 1, 1]\n",
      "[1, 0, 1, 1, 1]\n"
     ]
    }
   ],
   "source": [
    "table = getMinTable( 4, [ 0, 1, 4, 5, 8, 9, 12, 13 ] )\n",
    "\n",
    "for line in table:\n",
    "\n",
    "    print( line )"
   ]
  },
  {
   "cell_type": "markdown",
   "metadata": {},
   "source": [
    "## getKmap( var, función )"
   ]
  },
  {
   "cell_type": "code",
   "execution_count": 15,
   "metadata": {},
   "outputs": [],
   "source": [
    "def getKmap( var, fun ):\n",
    "\n",
    "    Kmap = [  ]\n",
    "\n",
    "    for i in range( var ):\n",
    "\n",
    "        Kmap.append( [ ] )\n",
    "\n",
    "        for j in range( var ):\n",
    "\n",
    "            Kmap[ i ].append( 0 )\n",
    "\n",
    "    for minTer in fun:\n",
    "\n",
    "        x = ( minTer ) // var\n",
    "        \n",
    "        y = ( minTer ) % var\n",
    "\n",
    "        Kmap[ y ][ x ] = 1\n",
    "\n",
    "    return Kmap\n"
   ]
  },
  {
   "cell_type": "markdown",
   "metadata": {},
   "source": [
    "### Test 1. \n",
    "$ var = 2 $\n",
    "\n",
    "$ f( x, y ) = [ 0, 1, 3 ] $\n",
    "\n",
    "Llamada de la función: getKmap( 2, [ 0, 1, 3 ] )"
   ]
  },
  {
   "cell_type": "code",
   "execution_count": 16,
   "metadata": {},
   "outputs": [
    {
     "name": "stdout",
     "output_type": "stream",
     "text": [
      "[1, 0]\n",
      "[1, 1]\n"
     ]
    }
   ],
   "source": [
    "kmap = getKmap( 2, [ 0, 1, 3 ] )\n",
    "\n",
    "for line in kmap:\n",
    "    print( line )"
   ]
  },
  {
   "cell_type": "markdown",
   "metadata": {},
   "source": [
    "### Test 2. \n",
    "$ var = 4 $\n",
    "\n",
    "$ f( w, x, y, z ) = [ 0, 1 ] $\n",
    "\n",
    "Llamada de la función: getKmap( 4, [ 0, 1 ] )"
   ]
  },
  {
   "cell_type": "code",
   "execution_count": 17,
   "metadata": {},
   "outputs": [
    {
     "name": "stdout",
     "output_type": "stream",
     "text": [
      "[1, 0, 0, 0]\n",
      "[1, 0, 0, 0]\n",
      "[0, 0, 0, 0]\n",
      "[0, 0, 0, 0]\n"
     ]
    }
   ],
   "source": [
    "kmap = getKmap( 4, [ 0, 1 ] )\n",
    "\n",
    "for line in kmap:\n",
    "    print( line )"
   ]
  },
  {
   "cell_type": "markdown",
   "metadata": {},
   "source": [
    "### Test 3. \n",
    "$ var = 4 $\n",
    "\n",
    "$ f( w, x, y, z ) = ( 4, [ 0, 1, 4, 5 ] ) $\n",
    "\n",
    "Llamada de la función: getKmap( 4, [ 0, 1, 4, 5 ] )"
   ]
  },
  {
   "cell_type": "code",
   "execution_count": 18,
   "metadata": {},
   "outputs": [
    {
     "name": "stdout",
     "output_type": "stream",
     "text": [
      "[1, 1, 0, 0]\n",
      "[1, 1, 0, 0]\n",
      "[0, 0, 0, 0]\n",
      "[0, 0, 0, 0]\n"
     ]
    }
   ],
   "source": [
    "kmap = getKmap( 4, [ 0, 1, 4, 5 ] ) \n",
    "\n",
    "for line in kmap:\n",
    "    print( line )"
   ]
  },
  {
   "cell_type": "markdown",
   "metadata": {},
   "source": [
    "### Test 4. \n",
    "$ var = 4 $\n",
    "\n",
    "$ f( w, x, y, z ) = [ 0, 1, 4, 5, 8, 9, 12, 13 ] $\n",
    "\n",
    "Llamada de la función: getKmap( 4, [ 0, 1, 4, 5, 8, 9, 12, 13 ] )"
   ]
  },
  {
   "cell_type": "code",
   "execution_count": 19,
   "metadata": {},
   "outputs": [
    {
     "name": "stdout",
     "output_type": "stream",
     "text": [
      "[1, 1, 1, 1]\n",
      "[1, 1, 1, 1]\n",
      "[0, 0, 0, 0]\n",
      "[0, 0, 0, 0]\n"
     ]
    }
   ],
   "source": [
    "kmap = getKmap( 4, [ 0, 1, 4, 5, 8, 9, 12, 13 ] )\n",
    "\n",
    "for line in kmap:\n",
    "    print( line )"
   ]
  },
  {
   "cell_type": "markdown",
   "metadata": {},
   "source": [
    "## reduceFun( var, función )"
   ]
  },
  {
   "cell_type": "code",
   "execution_count": 20,
   "metadata": {},
   "outputs": [],
   "source": [
    "'''\n",
    "Fuente teorica y base: Scientia et Technica Año XIII, No x, Mes de 200x. Universidad Tecnológica de Pereira. ISSN 0122-1701\n",
    "Referencia en código: https://repl.it/talk/learn/Python-Quine-McCluskey-Algorithm/14461\n",
    "                      \n",
    "\n",
    "Funcionamiento del algoritmo\n",
    "1. Busqueda de implicantes primos\n",
    "2. Hacer tabla de implicantes primos\n",
    "3. Encontrar tabla de implicantes primos\n",
    "'''\n",
    "\n",
    "# Comprueba si hay parejas con elementos reducibles y crea un nuevo grupo\n",
    "def combinePairs( group, result ):\n",
    "    # Define el tamaño del grupo\n",
    "    size = len( group ) -1\n",
    "\n",
    "    # Inicializa lista para verificar comprobación\n",
    "    check = [ ]\n",
    "\n",
    "    # Crea el nuevo grupo de terminos\n",
    "    nextGroup = [ [ ] for x in range( size )]\n",
    "\n",
    "    # Comprueba cada elemento del grupo comparandolo con el siguiente\n",
    "    for i in range( size ):\n",
    "\n",
    "        for element in group[ i ]:\n",
    "\n",
    "            for element2 in group[ i + 1 ]:\n",
    "\n",
    "                checkEqual, pos = compBinary( element, element2 )\n",
    "\n",
    "                if ( checkEqual == True ):\n",
    "\n",
    "                    # Actualización de la lista de verificación\n",
    "                    check.append( element )\n",
    "                    \n",
    "                    check.append( element2 )\n",
    "                    \n",
    "                    #Anula los valores simplificables con un ( \"-\" )\n",
    "                    newElement = list( element )\n",
    "                    \n",
    "                    newElement [ pos ] = '-'\n",
    "                    \n",
    "                    newElement = \"\".join( newElement )\n",
    "                    \n",
    "                    nextGroup[ i ].append( newElement )\n",
    "\n",
    "    for i in group:\n",
    "\n",
    "        for j in i:\n",
    "\n",
    "            if j not in check:\n",
    "\n",
    "                result.append(j)\n",
    "\n",
    "    return nextGroup, result\n",
    "\n",
    "# Descarta listas repetidas en la tabla\n",
    "def removeRedundant( group ):\n",
    "\n",
    "    newGroup = [ ]\n",
    "    \n",
    "    for j in group:\n",
    "    \n",
    "        new=[ ]\n",
    "    \n",
    "        for i in j:\n",
    "    \n",
    "            if i not in new:\n",
    "    \n",
    "                new.append( i )\n",
    "    \n",
    "        newGroup.append( new )\n",
    "    \n",
    "    return newGroup\n",
    "\n",
    "# Función de comprobación para grupos vacios\n",
    "# Retorna un valor booleano en respuesta \n",
    "def checkEmpty(group):\n",
    "\n",
    "    if len( group ) == 0:\n",
    "\n",
    "        return True\n",
    "\n",
    "    else:\n",
    "\n",
    "        cont = 0\n",
    "        \n",
    "        for i in group:\n",
    "        \n",
    "            if i:\n",
    "        \n",
    "                cont+=1\n",
    "        \n",
    "        if ( cont == 0 ):\n",
    "        \n",
    "            return True\n",
    "    \n",
    "    return False\n",
    "\n",
    "def reduceFun( n, fun ):  \n",
    "\n",
    "    # transformación de lista en enteros\n",
    "    fun = list( map( int, fun ) )\n",
    "\n",
    "    # Crea la lista inicial\n",
    "    group = [ [ ] for x in range ( n + 1 )]\n",
    "\n",
    "    for i in range( len( fun )):\n",
    "\n",
    "        # Conversor a binario\n",
    "        fun[ i ] = bin( fun[ i ] )[ 2: ]\n",
    "\n",
    "        if len( fun[ i ] ) < n:\n",
    "            # Completar el término con ceros\n",
    "            for j in range( n - len( fun[ i ] ) ):\n",
    "                fun[ i ] = '0' + fun[ i ]\n",
    "       \n",
    "        # grupos de 1\n",
    "        index = fun[ i ].count( '1' )\n",
    "\n",
    "        # Sub grupos\n",
    "        group[ index ].append( fun[ i ])\n",
    "\n",
    "\n",
    "    allGroup = [ ]\n",
    "\n",
    "    result = [ ]\n",
    "    \n",
    "    # Combinar las parejas que no han sido conbinadas\n",
    "    while checkEmpty( group ) == False:\n",
    "\n",
    "        allGroup.append( group )\n",
    "        \n",
    "        nextGroup, result = combinePairs( group, result )\n",
    "        \n",
    "        group = removeRedundant( nextGroup )\n",
    "\n",
    "    s = \"\"\n",
    "\n",
    "    for i in result:\n",
    "\n",
    "        s = s + binaryToLetter( i ) + \" + \"\n",
    "\n",
    "    # - 3 para eliminar el \" + \" extra \n",
    "    return s[ :( len( s ) - 3 ) ]"
   ]
  },
  {
   "cell_type": "markdown",
   "metadata": {},
   "source": [
    "### Test 1. \n",
    "$ var = 2 $\n",
    "\n",
    "$ f( x, y ) = [ 0, 1, 3 ] $\n",
    "\n",
    "Llamada de la función: reduceFun( [ 0, 1, 3 ], 2 )"
   ]
  },
  {
   "cell_type": "code",
   "execution_count": 21,
   "metadata": {},
   "outputs": [
    {
     "name": "stdout",
     "output_type": "stream",
     "text": [
      "a' + b\n"
     ]
    }
   ],
   "source": [
    "print( reduceFun( 2, [ 0, 1, 3 ] ) )"
   ]
  },
  {
   "cell_type": "markdown",
   "metadata": {},
   "source": [
    "### Test 2. \n",
    "$ var = 4 $\n",
    "\n",
    "$ f( w, x, y, z ) = [ 0, 1 ] $\n",
    "\n",
    "Llamada de la función: reduceFun( 4, [ 0, 1 ] )"
   ]
  },
  {
   "cell_type": "code",
   "execution_count": 22,
   "metadata": {},
   "outputs": [
    {
     "name": "stdout",
     "output_type": "stream",
     "text": [
      "a'b'c'\n"
     ]
    }
   ],
   "source": [
    "print( reduceFun( 4, [ 0, 1 ] ) )"
   ]
  },
  {
   "cell_type": "markdown",
   "metadata": {},
   "source": [
    "### Test 3. \n",
    "$ var = 4 $\n",
    "\n",
    "$ f( w, x, y, z ) = [ 0, 1, 4, 5 ] $\n",
    "\n",
    "Llamada de la función: reduceFun( 4, [ 0, 1, 4, 5 ] )"
   ]
  },
  {
   "cell_type": "code",
   "execution_count": 23,
   "metadata": {},
   "outputs": [
    {
     "name": "stdout",
     "output_type": "stream",
     "text": [
      "a'c'\n"
     ]
    }
   ],
   "source": [
    "print( reduceFun( 4, [ 0, 1, 4, 5 ] ) )"
   ]
  },
  {
   "cell_type": "markdown",
   "metadata": {},
   "source": [
    "### Test 4. \n",
    "$ var = 4 $\n",
    "\n",
    "$ f( w, x, y, z ) = [ 0, 1, 4, 5, 8, 9, 12, 13 ] $\n",
    "\n",
    "Llamada de la función: reduceFun( 4, [ 0, 1, 4, 5, 8, 9, 12, 13 ] )"
   ]
  },
  {
   "cell_type": "code",
   "execution_count": 24,
   "metadata": {},
   "outputs": [
    {
     "name": "stdout",
     "output_type": "stream",
     "text": [
      "c'\n"
     ]
    }
   ],
   "source": [
    "print( reduceFun( 4, [ 0, 1, 4, 5, 8, 9, 12, 13 ] ) )"
   ]
  },
  {
   "cell_type": "markdown",
   "metadata": {},
   "source": [
    "## Pruebas completas"
   ]
  },
  {
   "cell_type": "markdown",
   "metadata": {},
   "source": [
    "### Test 1. \n",
    "$ var = 2 $\n",
    "\n",
    "$ f( x, y ) = [ 0, 1, 3 ] $"
   ]
  },
  {
   "cell_type": "code",
   "execution_count": 25,
   "metadata": {},
   "outputs": [
    {
     "name": "stdout",
     "output_type": "stream",
     "text": [
      "Tabla de verdad: \n",
      "[0, 0, 1]\n",
      "[0, 1, 1]\n",
      "[0, 1, 0]\n",
      "[1, 1, 1]\n",
      "\n",
      "Kmap: \n",
      "[1, 0]\n",
      "[1, 1]\n",
      "\n",
      "Función simplificada: \n",
      "a' + b\n"
     ]
    }
   ],
   "source": [
    "var = 2\n",
    "\n",
    "fun = [ 0, 1, 3 ]\n",
    "\n",
    "table = getTable( var, fun )\n",
    "\n",
    "kmap = getKmap( var, fun )\n",
    "\n",
    "print( \"Tabla de verdad: \" )\n",
    "\n",
    "for line in table:\n",
    "    \n",
    "    print( line )\n",
    "\n",
    "print( )\n",
    "print( \"Kmap: \" )\n",
    "\n",
    "for line in kmap:\n",
    "    \n",
    "    print( line )\n",
    "\n",
    "print()\n",
    "print( \"Función simplificada: \" )\n",
    "print( reduceFun( var, fun ) )"
   ]
  },
  {
   "cell_type": "markdown",
   "metadata": {},
   "source": [
    "### Test 2. \n",
    "$ var = 4 $\n",
    "\n",
    "$ f( w, x, y, z ) = [ 0, 1 ] $"
   ]
  },
  {
   "cell_type": "code",
   "execution_count": 26,
   "metadata": {},
   "outputs": [
    {
     "name": "stdout",
     "output_type": "stream",
     "text": [
      "Tabla de verdad: \n",
      "[0, 0, 0, 0, 1]\n",
      "[0, 0, 0, 1, 1]\n",
      "[0, 0, 0, 1, 0]\n",
      "[0, 0, 1, 1, 0]\n",
      "[0, 0, 0, 1, 0]\n",
      "[0, 1, 0, 1, 0]\n",
      "[0, 0, 1, 1, 0]\n",
      "[0, 1, 1, 1, 0]\n",
      "[0, 0, 0, 1, 0]\n",
      "[1, 0, 0, 1, 0]\n",
      "[0, 1, 0, 1, 0]\n",
      "[1, 1, 0, 1, 0]\n",
      "[0, 0, 1, 1, 0]\n",
      "[1, 0, 1, 1, 0]\n",
      "[0, 1, 1, 1, 0]\n",
      "[1, 1, 1, 1, 0]\n",
      "\n",
      "Kmap: \n",
      "[1, 0, 0, 0]\n",
      "[1, 0, 0, 0]\n",
      "[0, 0, 0, 0]\n",
      "[0, 0, 0, 0]\n",
      "\n",
      "Función simplificada: \n",
      "a'b'c'\n"
     ]
    }
   ],
   "source": [
    "var = 4\n",
    "\n",
    "fun = [ 0, 1 ]\n",
    "\n",
    "table = getTable( var, fun )\n",
    "\n",
    "kmap = getKmap( var, fun )\n",
    "\n",
    "print( \"Tabla de verdad: \" )\n",
    "\n",
    "for line in table:\n",
    "    \n",
    "    print( line )\n",
    "\n",
    "print( )\n",
    "print( \"Kmap: \" )\n",
    "\n",
    "for line in kmap:\n",
    "    \n",
    "    print( line )\n",
    "\n",
    "print()\n",
    "print( \"Función simplificada: \" )\n",
    "print( reduceFun( var, fun ) )"
   ]
  },
  {
   "cell_type": "markdown",
   "metadata": {},
   "source": [
    " ### Test 3. \n",
    "$ var = 4 $\n",
    "\n",
    "$ f( w, x, y, z ) = [ 0, 1, 4, 5 ] $"
   ]
  },
  {
   "cell_type": "code",
   "execution_count": 27,
   "metadata": {},
   "outputs": [
    {
     "name": "stdout",
     "output_type": "stream",
     "text": [
      "Tabla de verdad: \n",
      "[0, 0, 0, 0, 1]\n",
      "[0, 0, 0, 1, 1]\n",
      "[0, 0, 0, 1, 0]\n",
      "[0, 0, 1, 1, 0]\n",
      "[0, 0, 0, 1, 1]\n",
      "[0, 1, 0, 1, 1]\n",
      "[0, 0, 1, 1, 0]\n",
      "[0, 1, 1, 1, 0]\n",
      "[0, 0, 0, 1, 0]\n",
      "[1, 0, 0, 1, 0]\n",
      "[0, 1, 0, 1, 0]\n",
      "[1, 1, 0, 1, 0]\n",
      "[0, 0, 1, 1, 0]\n",
      "[1, 0, 1, 1, 0]\n",
      "[0, 1, 1, 1, 0]\n",
      "[1, 1, 1, 1, 0]\n",
      "\n",
      "Kmap: \n",
      "[1, 1, 0, 0]\n",
      "[1, 1, 0, 0]\n",
      "[0, 0, 0, 0]\n",
      "[0, 0, 0, 0]\n",
      "\n",
      "Función simplificada: \n",
      "a'c'\n"
     ]
    }
   ],
   "source": [
    "var = 4\n",
    "\n",
    "fun = [ 0, 1, 4, 5 ]\n",
    "\n",
    "table = getTable( var, fun )\n",
    "\n",
    "kmap = getKmap( var, fun )\n",
    "\n",
    "print( \"Tabla de verdad: \" )\n",
    "\n",
    "for line in table:\n",
    "    \n",
    "    print( line )\n",
    "\n",
    "print( )\n",
    "print( \"Kmap: \" )\n",
    "\n",
    "for line in kmap:\n",
    "    \n",
    "    print( line )\n",
    "\n",
    "print()\n",
    "print( \"Función simplificada: \" )\n",
    "print( reduceFun( var, fun ) )"
   ]
  },
  {
   "cell_type": "markdown",
   "metadata": {},
   "source": [
    "### Test 4. \n",
    "$ var = 4 $\n",
    "\n",
    "$ f( w, x, y, z ) = [ 0, 1, 4, 5, 8, 9, 12, 13 ] $"
   ]
  },
  {
   "cell_type": "code",
   "execution_count": 28,
   "metadata": {},
   "outputs": [
    {
     "name": "stdout",
     "output_type": "stream",
     "text": [
      "Tabla de verdad: \n",
      "[0, 0, 0, 0, 1]\n",
      "[0, 0, 0, 1, 1]\n",
      "[0, 0, 0, 1, 0]\n",
      "[0, 0, 1, 1, 0]\n",
      "[0, 0, 0, 1, 1]\n",
      "[0, 1, 0, 1, 1]\n",
      "[0, 0, 1, 1, 0]\n",
      "[0, 1, 1, 1, 0]\n",
      "[0, 0, 0, 1, 1]\n",
      "[1, 0, 0, 1, 1]\n",
      "[0, 1, 0, 1, 0]\n",
      "[1, 1, 0, 1, 0]\n",
      "[0, 0, 1, 1, 1]\n",
      "[1, 0, 1, 1, 1]\n",
      "[0, 1, 1, 1, 0]\n",
      "[1, 1, 1, 1, 0]\n",
      "\n",
      "Kmap: \n",
      "[1, 1, 1, 1]\n",
      "[1, 1, 1, 1]\n",
      "[0, 0, 0, 0]\n",
      "[0, 0, 0, 0]\n",
      "\n",
      "Función simplificada: \n",
      "c'\n"
     ]
    }
   ],
   "source": [
    "var = 4\n",
    "\n",
    "fun = [ 0, 1, 4, 5, 8, 9, 12, 13 ]\n",
    "\n",
    "table = getTable( var, fun )\n",
    "\n",
    "kmap = getKmap( var, fun )\n",
    "\n",
    "print( \"Tabla de verdad: \" )\n",
    "\n",
    "for line in table:\n",
    "    \n",
    "    print( line )\n",
    "\n",
    "print( )\n",
    "print( \"Kmap: \" )\n",
    "\n",
    "for line in kmap:\n",
    "    \n",
    "    print( line )\n",
    "\n",
    "print()\n",
    "print( \"Función simplificada: \" )\n",
    "print( reduceFun( var, fun ) )"
   ]
  }
 ],
 "metadata": {
  "kernelspec": {
   "display_name": "Python 3",
   "language": "python",
   "name": "python3"
  },
  "language_info": {
   "codemirror_mode": {
    "name": "ipython",
    "version": 3
   },
   "file_extension": ".py",
   "mimetype": "text/x-python",
   "name": "python",
   "nbconvert_exporter": "python",
   "pygments_lexer": "ipython3",
   "version": "3.7.6"
  }
 },
 "nbformat": 4,
 "nbformat_minor": 4
}
